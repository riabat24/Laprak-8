{
 "cells": [
  {
   "cell_type": "code",
   "execution_count": null,
   "id": "c2dbe551",
   "metadata": {},
   "outputs": [],
   "source": [
    "#Soal 1\n",
    "\n",
    "file1 = input(\"Masukkan file 1: \")\n",
    "file2 = input(\"Masukkan file 2: \")\n",
    "\n",
    "handle1 = open(file1, \"r\")\n",
    "handle2 = open(file2, \"r\")\n",
    "\n",
    "handle2 = handle2.read()\n",
    "handle2_list = handle2.split(\"\\n\")\n",
    "baris = 0\n",
    "\n",
    "for i in handle1:\n",
    "    baris += 1\n",
    "\n",
    "    if i.rstrip() == handle2_list[baris-1]:\n",
    "        continue\n",
    "    else:\n",
    "        print(\"Perbedaan pada baris {}\" .format(baris))\n",
    "\n",
    "handle1.close()"
   ]
  },
  {
   "cell_type": "code",
   "execution_count": null,
   "id": "a1a703dd",
   "metadata": {},
   "outputs": [],
   "source": [
    "#Soal 2\n",
    "\n",
    "soal = input(\"Masukkan nama file : \")\n",
    "\n",
    "soaltxt = open(soal, \"r\")\n",
    "\n",
    "for i in soaltxt:\n",
    "\n",
    "    i  = i.split(\" || \")\n",
    "\n",
    "    print(i[0])\n",
    "\n",
    "    a = input(\"Jawab : \")\n",
    "\n",
    "    if a.lower() == i[1].lower().strip(\"\\n\"):\n",
    "        print(\"Jawaban benar!\")\n",
    "    else:\n",
    "        print(\"Jawaban salah!\")"
   ]
  }
 ],
 "metadata": {
  "kernelspec": {
   "display_name": "Python 3 (ipykernel)",
   "language": "python",
   "name": "python3"
  },
  "language_info": {
   "codemirror_mode": {
    "name": "ipython",
    "version": 3
   },
   "file_extension": ".py",
   "mimetype": "text/x-python",
   "name": "python",
   "nbconvert_exporter": "python",
   "pygments_lexer": "ipython3",
   "version": "3.11.5"
  }
 },
 "nbformat": 4,
 "nbformat_minor": 5
}
